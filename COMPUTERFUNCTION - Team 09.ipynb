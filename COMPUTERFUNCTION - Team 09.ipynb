{
 "cells": [
  {
   "cell_type": "code",
   "execution_count": 78,
   "id": "6fef0024",
   "metadata": {},
   "outputs": [
    {
     "name": "stdout",
     "output_type": "stream",
     "text": [
      "00001010\n",
      "['0', '0', '0', '1', '1', '1', '1', '0']\n",
      "00010001\n",
      "['0', '0', '1', '1', '0', '0', '1', '0']\n",
      "00111101\n",
      "['1', '1', '0', '1', '0', '1', '0', '0']\n"
     ]
    },
    {
     "data": {
      "text/plain": [
       "212"
      ]
     },
     "execution_count": 78,
     "metadata": {},
     "output_type": "execute_result"
    }
   ],
   "source": [
    "\n",
    "# COMPUTERFUNCTION (っ◔◡◔)っ ♥ EASY ♥\n",
    "\n",
    "# HELLO HUMAN. SOLVE MY FUNCTION OR FACE THE CONCEQUENCES.\n",
    "# KIND REGARDS, R.O.B.\n",
    "\n",
    "def binaryToDecimal(val): \n",
    "    return int(val, 2) \n",
    "def  COMPUTERFUNCTION(x, y):\n",
    "    #convert to binary\n",
    "    x_bin = bin(x)\n",
    "    y_bin = bin(y)\n",
    "    arr_x = []\n",
    "    arr_y = []\n",
    "    arr_x.append(str(x_bin)[2:])\n",
    "    arr_y.append(str(y_bin)[2:])\n",
    "    if len(arr_x[0]) < 8 or len(arr_y[0]) < 8:\n",
    "        arr_x.insert(0, \"0\" * (8 - len(arr_x[0])))\n",
    "        arr_y.insert(0, \"0\" * (8 - len(arr_y[0])))\n",
    "        x_bin_good =\"\".join(arr_x)\n",
    "        y_bin_good =\"\".join(arr_y)\n",
    "    x_str = str(x_bin)\n",
    "    y_str = str(y_bin)\n",
    "    output_arr = []\n",
    "    print(x_bin_good)\n",
    "    for i in range(8):\n",
    "        if x_bin_good[i] == y_bin_good[i]:\n",
    "            output_arr.append(\"0\") \n",
    "        else:\n",
    "            output_arr.append(\"1\")\n",
    "#     output_arr.reverse()\n",
    "    print(output_arr)\n",
    "    output = str((\"\".join(output_arr)))\n",
    "    result = binaryToDecimal(output)\n",
    "    return result\n",
    "        \n",
    "\n",
    "COMPUTERFUNCTION(10, 20)\n",
    "COMPUTERFUNCTION(17, 35)\n",
    "COMPUTERFUNCTION(61, 233)"
   ]
  },
  {
   "cell_type": "code",
   "execution_count": null,
   "id": "89cb6b43",
   "metadata": {},
   "outputs": [],
   "source": []
  }
 ],
 "metadata": {
  "kernelspec": {
   "display_name": "Python 3 (ipykernel)",
   "language": "python",
   "name": "python3"
  },
  "language_info": {
   "codemirror_mode": {
    "name": "ipython",
    "version": 3
   },
   "file_extension": ".py",
   "mimetype": "text/x-python",
   "name": "python",
   "nbconvert_exporter": "python",
   "pygments_lexer": "ipython3",
   "version": "3.9.13"
  }
 },
 "nbformat": 4,
 "nbformat_minor": 5
}
